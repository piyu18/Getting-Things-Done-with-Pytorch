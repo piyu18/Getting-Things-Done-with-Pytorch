{
  "nbformat": 4,
  "nbformat_minor": 0,
  "metadata": {
    "colab": {
      "name": "text_classification_spam_ham.ipynb",
      "provenance": [],
      "collapsed_sections": [],
      "mount_file_id": "1HRKmXff-NMxGS3sXSQmMDU7x7_IAi_mG",
      "authorship_tag": "ABX9TyOUBTgmJ5GXq65HMd+dyH1L",
      "include_colab_link": true
    },
    "kernelspec": {
      "name": "python3",
      "display_name": "Python 3"
    },
    "language_info": {
      "name": "python"
    }
  },
  "cells": [
    {
      "cell_type": "markdown",
      "metadata": {
        "id": "view-in-github",
        "colab_type": "text"
      },
      "source": [
        "<a href=\"https://colab.research.google.com/github/piyu18/Getting-Things-Done-with-Pytorch/blob/master/text_classification_spam_ham.ipynb\" target=\"_parent\"><img src=\"https://colab.research.google.com/assets/colab-badge.svg\" alt=\"Open In Colab\"/></a>"
      ]
    },
    {
      "cell_type": "code",
      "metadata": {
        "id": "wSSnyHflzHQ0"
      },
      "source": [
        "import numpy as np\n",
        "import pandas as pd\n",
        "import matplotlib.pyplot as plt\n"
      ],
      "execution_count": 33,
      "outputs": []
    },
    {
      "cell_type": "code",
      "metadata": {
        "id": "4lK-m1w_zR8G"
      },
      "source": [
        "df = pd.read_csv('/content/drive/MyDrive/Spam_Ham/sms.tsv',sep='\\t',names=['category','text'])"
      ],
      "execution_count": 34,
      "outputs": []
    },
    {
      "cell_type": "code",
      "metadata": {
        "colab": {
          "base_uri": "https://localhost:8080/",
          "height": 200
        },
        "id": "UAkH8k7Nzvzv",
        "outputId": "25af7197-8505-4fb5-c7e1-77e51c579879"
      },
      "source": [
        "df.head()"
      ],
      "execution_count": 35,
      "outputs": [
        {
          "output_type": "execute_result",
          "data": {
            "text/html": [
              "<div>\n",
              "<style scoped>\n",
              "    .dataframe tbody tr th:only-of-type {\n",
              "        vertical-align: middle;\n",
              "    }\n",
              "\n",
              "    .dataframe tbody tr th {\n",
              "        vertical-align: top;\n",
              "    }\n",
              "\n",
              "    .dataframe thead th {\n",
              "        text-align: right;\n",
              "    }\n",
              "</style>\n",
              "<table border=\"1\" class=\"dataframe\">\n",
              "  <thead>\n",
              "    <tr style=\"text-align: right;\">\n",
              "      <th></th>\n",
              "      <th>category</th>\n",
              "      <th>text</th>\n",
              "    </tr>\n",
              "  </thead>\n",
              "  <tbody>\n",
              "    <tr>\n",
              "      <th>0</th>\n",
              "      <td>ham</td>\n",
              "      <td>Go until jurong point, crazy.. Available only ...</td>\n",
              "    </tr>\n",
              "    <tr>\n",
              "      <th>1</th>\n",
              "      <td>ham</td>\n",
              "      <td>Ok lar... Joking wif u oni...</td>\n",
              "    </tr>\n",
              "    <tr>\n",
              "      <th>2</th>\n",
              "      <td>spam</td>\n",
              "      <td>Free entry in 2 a wkly comp to win FA Cup fina...</td>\n",
              "    </tr>\n",
              "    <tr>\n",
              "      <th>3</th>\n",
              "      <td>ham</td>\n",
              "      <td>U dun say so early hor... U c already then say...</td>\n",
              "    </tr>\n",
              "    <tr>\n",
              "      <th>4</th>\n",
              "      <td>ham</td>\n",
              "      <td>Nah I don't think he goes to usf, he lives aro...</td>\n",
              "    </tr>\n",
              "  </tbody>\n",
              "</table>\n",
              "</div>"
            ],
            "text/plain": [
              "  category                                               text\n",
              "0      ham  Go until jurong point, crazy.. Available only ...\n",
              "1      ham                      Ok lar... Joking wif u oni...\n",
              "2     spam  Free entry in 2 a wkly comp to win FA Cup fina...\n",
              "3      ham  U dun say so early hor... U c already then say...\n",
              "4      ham  Nah I don't think he goes to usf, he lives aro..."
            ]
          },
          "metadata": {
            "tags": []
          },
          "execution_count": 35
        }
      ]
    },
    {
      "cell_type": "code",
      "metadata": {
        "id": "7ml54Qz03zts"
      },
      "source": [
        "df['category'] = df['category'].map({'ham':1,'spam':0})"
      ],
      "execution_count": 36,
      "outputs": []
    },
    {
      "cell_type": "code",
      "metadata": {
        "colab": {
          "base_uri": "https://localhost:8080/",
          "height": 200
        },
        "id": "q0_C6aQ24H8R",
        "outputId": "df494849-ada8-402d-a218-caa2abf22717"
      },
      "source": [
        "df.head()"
      ],
      "execution_count": 37,
      "outputs": [
        {
          "output_type": "execute_result",
          "data": {
            "text/html": [
              "<div>\n",
              "<style scoped>\n",
              "    .dataframe tbody tr th:only-of-type {\n",
              "        vertical-align: middle;\n",
              "    }\n",
              "\n",
              "    .dataframe tbody tr th {\n",
              "        vertical-align: top;\n",
              "    }\n",
              "\n",
              "    .dataframe thead th {\n",
              "        text-align: right;\n",
              "    }\n",
              "</style>\n",
              "<table border=\"1\" class=\"dataframe\">\n",
              "  <thead>\n",
              "    <tr style=\"text-align: right;\">\n",
              "      <th></th>\n",
              "      <th>category</th>\n",
              "      <th>text</th>\n",
              "    </tr>\n",
              "  </thead>\n",
              "  <tbody>\n",
              "    <tr>\n",
              "      <th>0</th>\n",
              "      <td>1</td>\n",
              "      <td>Go until jurong point, crazy.. Available only ...</td>\n",
              "    </tr>\n",
              "    <tr>\n",
              "      <th>1</th>\n",
              "      <td>1</td>\n",
              "      <td>Ok lar... Joking wif u oni...</td>\n",
              "    </tr>\n",
              "    <tr>\n",
              "      <th>2</th>\n",
              "      <td>0</td>\n",
              "      <td>Free entry in 2 a wkly comp to win FA Cup fina...</td>\n",
              "    </tr>\n",
              "    <tr>\n",
              "      <th>3</th>\n",
              "      <td>1</td>\n",
              "      <td>U dun say so early hor... U c already then say...</td>\n",
              "    </tr>\n",
              "    <tr>\n",
              "      <th>4</th>\n",
              "      <td>1</td>\n",
              "      <td>Nah I don't think he goes to usf, he lives aro...</td>\n",
              "    </tr>\n",
              "  </tbody>\n",
              "</table>\n",
              "</div>"
            ],
            "text/plain": [
              "   category                                               text\n",
              "0         1  Go until jurong point, crazy.. Available only ...\n",
              "1         1                      Ok lar... Joking wif u oni...\n",
              "2         0  Free entry in 2 a wkly comp to win FA Cup fina...\n",
              "3         1  U dun say so early hor... U c already then say...\n",
              "4         1  Nah I don't think he goes to usf, he lives aro..."
            ]
          },
          "metadata": {
            "tags": []
          },
          "execution_count": 37
        }
      ]
    },
    {
      "cell_type": "code",
      "metadata": {
        "id": "vagYbo896P-N"
      },
      "source": [
        "df = df[['category', 'text']]"
      ],
      "execution_count": 38,
      "outputs": []
    },
    {
      "cell_type": "code",
      "metadata": {
        "id": "tRoGaMNI4LFq"
      },
      "source": [
        "X = df['text'].values"
      ],
      "execution_count": 39,
      "outputs": []
    },
    {
      "cell_type": "code",
      "metadata": {
        "id": "lUtKidZU4STG"
      },
      "source": [
        "y = df['category'].values"
      ],
      "execution_count": 40,
      "outputs": []
    },
    {
      "cell_type": "code",
      "metadata": {
        "id": "8gfpWDF-4X4A"
      },
      "source": [
        "from sklearn.model_selection import train_test_split\n",
        "X_train, X_test, y_train, y_test = train_test_split(X,y,test_size=0.2,random_state=42)"
      ],
      "execution_count": 41,
      "outputs": []
    },
    {
      "cell_type": "code",
      "metadata": {
        "colab": {
          "base_uri": "https://localhost:8080/"
        },
        "id": "QSJbAPvm3ifC",
        "outputId": "29a78c20-b98c-4057-9f6d-09c99cf8be3c"
      },
      "source": [
        "from sklearn.feature_extraction.text import CountVectorizer\n",
        "vectorizer = CountVectorizer(lowercase=False)\n",
        "vectorizer.fit(X_train)\n",
        "X_train = vectorizer.transform(X_train)\n",
        "X_test = vectorizer.transform(X_test)\n",
        "X_train.shape"
      ],
      "execution_count": 42,
      "outputs": [
        {
          "output_type": "execute_result",
          "data": {
            "text/plain": [
              "(4457, 9609)"
            ]
          },
          "metadata": {
            "tags": []
          },
          "execution_count": 42
        }
      ]
    },
    {
      "cell_type": "code",
      "metadata": {
        "id": "zIpc0iJcFVtI"
      },
      "source": [
        "from tensorflow.keras.models import Sequential\n",
        "from tensorflow.keras.layers import Dense,Dropout\n",
        "from tensorflow.keras.callbacks import EarlyStopping\n",
        "model = Sequential()\n",
        "model.add(Dense(30,activation='relu'))\n",
        "model.add(Dropout(0.5))\n",
        "model.add(Dense(15,activation='relu'))\n",
        "model.add(Dropout(0.5))\n",
        "model.add(Dense(1,activation='sigmoid'))\n",
        "model.compile(\n",
        "    loss = 'binary_crossentropy',\n",
        "    optimizer='adam',\n",
        "    metrics=['accuracy']\n",
        ")\n",
        "\n"
      ],
      "execution_count": 46,
      "outputs": []
    },
    {
      "cell_type": "code",
      "metadata": {
        "id": "9CMnObP1HWSD"
      },
      "source": [
        "early_stop = EarlyStopping(monitor='val_loss',mode='min',verbose=1,patience=25)"
      ],
      "execution_count": 48,
      "outputs": []
    },
    {
      "cell_type": "code",
      "metadata": {
        "colab": {
          "base_uri": "https://localhost:8080/"
        },
        "id": "7Iq_mJXAGfam",
        "outputId": "72e852b7-d3f0-41b3-aeb6-8b68f2e16b59"
      },
      "source": [
        "model.fit(\n",
        "    X_train,\n",
        "    y_train,\n",
        "    epochs=200,\n",
        "    validation_data=(X_test,y_test),\n",
        "    verbose=1,\n",
        "    callbacks=[early_stop]\n",
        "    )"
      ],
      "execution_count": 50,
      "outputs": [
        {
          "output_type": "stream",
          "text": [
            "Epoch 1/200\n"
          ],
          "name": "stdout"
        },
        {
          "output_type": "stream",
          "text": [
            "/usr/local/lib/python3.7/dist-packages/tensorflow/python/framework/indexed_slices.py:449: UserWarning: Converting sparse IndexedSlices(IndexedSlices(indices=Tensor(\"gradient_tape/sequential_2/dense_6/embedding_lookup_sparse/Reshape_1:0\", shape=(None,), dtype=int32), values=Tensor(\"gradient_tape/sequential_2/dense_6/embedding_lookup_sparse/Reshape:0\", shape=(None, 30), dtype=float32), dense_shape=Tensor(\"gradient_tape/sequential_2/dense_6/embedding_lookup_sparse/Cast:0\", shape=(2,), dtype=int32))) to a dense Tensor of unknown shape. This may consume a large amount of memory.\n",
            "  \"shape. This may consume a large amount of memory.\" % value)\n"
          ],
          "name": "stderr"
        },
        {
          "output_type": "stream",
          "text": [
            "140/140 [==============================] - 2s 7ms/step - loss: 0.4581 - accuracy: 0.8578 - val_loss: 0.2016 - val_accuracy: 0.9417\n",
            "Epoch 2/200\n",
            "140/140 [==============================] - 1s 6ms/step - loss: 0.1517 - accuracy: 0.9529 - val_loss: 0.0713 - val_accuracy: 0.9883\n",
            "Epoch 3/200\n",
            "140/140 [==============================] - 1s 6ms/step - loss: 0.0731 - accuracy: 0.9841 - val_loss: 0.0618 - val_accuracy: 0.9883\n",
            "Epoch 4/200\n",
            "140/140 [==============================] - 1s 6ms/step - loss: 0.0395 - accuracy: 0.9917 - val_loss: 0.0690 - val_accuracy: 0.9883\n",
            "Epoch 5/200\n",
            "140/140 [==============================] - 1s 6ms/step - loss: 0.0308 - accuracy: 0.9930 - val_loss: 0.0749 - val_accuracy: 0.9874\n",
            "Epoch 6/200\n",
            "140/140 [==============================] - 1s 6ms/step - loss: 0.0232 - accuracy: 0.9917 - val_loss: 0.0796 - val_accuracy: 0.9883\n",
            "Epoch 7/200\n",
            "140/140 [==============================] - 1s 6ms/step - loss: 0.0192 - accuracy: 0.9946 - val_loss: 0.0854 - val_accuracy: 0.9883\n",
            "Epoch 8/200\n",
            "140/140 [==============================] - 1s 6ms/step - loss: 0.0147 - accuracy: 0.9957 - val_loss: 0.0899 - val_accuracy: 0.9874\n",
            "Epoch 9/200\n",
            "140/140 [==============================] - 1s 6ms/step - loss: 0.0130 - accuracy: 0.9960 - val_loss: 0.0964 - val_accuracy: 0.9874\n",
            "Epoch 10/200\n",
            "140/140 [==============================] - 1s 6ms/step - loss: 0.0100 - accuracy: 0.9978 - val_loss: 0.0998 - val_accuracy: 0.9874\n",
            "Epoch 11/200\n",
            "140/140 [==============================] - 1s 6ms/step - loss: 0.0094 - accuracy: 0.9987 - val_loss: 0.1057 - val_accuracy: 0.9874\n",
            "Epoch 12/200\n",
            "140/140 [==============================] - 1s 6ms/step - loss: 0.0093 - accuracy: 0.9984 - val_loss: 0.1129 - val_accuracy: 0.9874\n",
            "Epoch 13/200\n",
            "140/140 [==============================] - 1s 6ms/step - loss: 0.0097 - accuracy: 0.9973 - val_loss: 0.1167 - val_accuracy: 0.9883\n",
            "Epoch 14/200\n",
            "140/140 [==============================] - 1s 6ms/step - loss: 0.0063 - accuracy: 0.9984 - val_loss: 0.1235 - val_accuracy: 0.9883\n",
            "Epoch 15/200\n",
            "140/140 [==============================] - 1s 6ms/step - loss: 0.0069 - accuracy: 0.9980 - val_loss: 0.1257 - val_accuracy: 0.9883\n",
            "Epoch 16/200\n",
            "140/140 [==============================] - 1s 6ms/step - loss: 0.0058 - accuracy: 0.9989 - val_loss: 0.1293 - val_accuracy: 0.9883\n",
            "Epoch 17/200\n",
            "140/140 [==============================] - 1s 6ms/step - loss: 0.0074 - accuracy: 0.9969 - val_loss: 0.1334 - val_accuracy: 0.9883\n",
            "Epoch 18/200\n",
            "140/140 [==============================] - 1s 6ms/step - loss: 0.0064 - accuracy: 0.9973 - val_loss: 0.1368 - val_accuracy: 0.9883\n",
            "Epoch 19/200\n",
            "140/140 [==============================] - 1s 6ms/step - loss: 0.0060 - accuracy: 0.9978 - val_loss: 0.1439 - val_accuracy: 0.9883\n",
            "Epoch 20/200\n",
            "140/140 [==============================] - 1s 6ms/step - loss: 0.0043 - accuracy: 0.9993 - val_loss: 0.1452 - val_accuracy: 0.9883\n",
            "Epoch 21/200\n",
            "140/140 [==============================] - 1s 6ms/step - loss: 0.0056 - accuracy: 0.9982 - val_loss: 0.1500 - val_accuracy: 0.9883\n",
            "Epoch 22/200\n",
            "140/140 [==============================] - 1s 6ms/step - loss: 0.0054 - accuracy: 0.9987 - val_loss: 0.1510 - val_accuracy: 0.9874\n",
            "Epoch 23/200\n",
            "140/140 [==============================] - 1s 6ms/step - loss: 0.0058 - accuracy: 0.9984 - val_loss: 0.1591 - val_accuracy: 0.9874\n",
            "Epoch 24/200\n",
            "140/140 [==============================] - 1s 6ms/step - loss: 0.0046 - accuracy: 0.9982 - val_loss: 0.1595 - val_accuracy: 0.9874\n",
            "Epoch 25/200\n",
            "140/140 [==============================] - 1s 6ms/step - loss: 0.0047 - accuracy: 0.9984 - val_loss: 0.1647 - val_accuracy: 0.9874\n",
            "Epoch 26/200\n",
            "140/140 [==============================] - 1s 6ms/step - loss: 0.0048 - accuracy: 0.9980 - val_loss: 0.1706 - val_accuracy: 0.9874\n",
            "Epoch 27/200\n",
            "140/140 [==============================] - 1s 6ms/step - loss: 0.0041 - accuracy: 0.9978 - val_loss: 0.1751 - val_accuracy: 0.9883\n",
            "Epoch 28/200\n",
            "140/140 [==============================] - 1s 6ms/step - loss: 0.0029 - accuracy: 1.0000 - val_loss: 0.1811 - val_accuracy: 0.9874\n",
            "Epoch 00028: early stopping\n"
          ],
          "name": "stdout"
        },
        {
          "output_type": "execute_result",
          "data": {
            "text/plain": [
              "<tensorflow.python.keras.callbacks.History at 0x7f9628b93510>"
            ]
          },
          "metadata": {
            "tags": []
          },
          "execution_count": 50
        }
      ]
    },
    {
      "cell_type": "code",
      "metadata": {
        "colab": {
          "base_uri": "https://localhost:8080/",
          "height": 281
        },
        "id": "QTFUPhY7kbLN",
        "outputId": "b6d8ca66-a245-4513-ce4d-45f9695cab5e"
      },
      "source": [
        "model_loss = pd.DataFrame(model.history.history)\n",
        "model_loss.plot()"
      ],
      "execution_count": 52,
      "outputs": [
        {
          "output_type": "execute_result",
          "data": {
            "text/plain": [
              "<matplotlib.axes._subplots.AxesSubplot at 0x7f9628b93890>"
            ]
          },
          "metadata": {
            "tags": []
          },
          "execution_count": 52
        },
        {
          "output_type": "display_data",
          "data": {
            "image/png": "[encoded data removed]",
            "text/plain": [
              "<Figure size 432x288 with 1 Axes>"
            ]
          },
          "metadata": {
            "tags": [],
            "needs_background": "light"
          }
        }
      ]
    },
    {
      "cell_type": "markdown",
      "metadata": {
        "id": "xed5c10IIV9v"
      },
      "source": [
        "##Model Evaluation"
      ]
    },
    {
      "cell_type": "code",
      "metadata": {
        "colab": {
          "base_uri": "https://localhost:8080/"
        },
        "id": "9jCpaIZbk1fr",
        "outputId": "570bb419-5190-410b-ad62-f19dffffc438"
      },
      "source": [
        "predictions = model.predict_classes(X_test)"
      ],
      "execution_count": 53,
      "outputs": [
        {
          "output_type": "stream",
          "text": [
            "/usr/local/lib/python3.7/dist-packages/tensorflow/python/keras/engine/sequential.py:455: UserWarning: `model.predict_classes()` is deprecated and will be removed after 2021-01-01. Please use instead:* `np.argmax(model.predict(x), axis=-1)`,   if your model does multi-class classification   (e.g. if it uses a `softmax` last-layer activation).* `(model.predict(x) > 0.5).astype(\"int32\")`,   if your model does binary classification   (e.g. if it uses a `sigmoid` last-layer activation).\n",
            "  warnings.warn('`model.predict_classes()` is deprecated and '\n"
          ],
          "name": "stderr"
        }
      ]
    },
    {
      "cell_type": "code",
      "metadata": {
        "colab": {
          "base_uri": "https://localhost:8080/"
        },
        "id": "b0XX52b2k8hM",
        "outputId": "6d38af0f-77cc-489a-f979-1b99bbaaa313"
      },
      "source": [
        "from sklearn.metrics import classification_report,confusion_matrix\n",
        "print(classification_report(y_test,predictions))"
      ],
      "execution_count": 54,
      "outputs": [
        {
          "output_type": "stream",
          "text": [
            "              precision    recall  f1-score   support\n",
            "\n",
            "           0       0.98      0.93      0.95       149\n",
            "           1       0.99      1.00      0.99       966\n",
            "\n",
            "    accuracy                           0.99      1115\n",
            "   macro avg       0.98      0.96      0.97      1115\n",
            "weighted avg       0.99      0.99      0.99      1115\n",
            "\n"
          ],
          "name": "stdout"
        }
      ]
    },
    {
      "cell_type": "code",
      "metadata": {
        "colab": {
          "base_uri": "https://localhost:8080/"
        },
        "id": "oKUTgZxSlNCu",
        "outputId": "54e5c2ec-2f93-44f4-a797-988810687d8a"
      },
      "source": [
        "print(confusion_matrix(y_test,predictions))"
      ],
      "execution_count": 55,
      "outputs": [
        {
          "output_type": "stream",
          "text": [
            "[[138  11]\n",
            " [  3 963]]\n"
          ],
          "name": "stdout"
        }
      ]
    },
    {
      "cell_type": "code",
      "metadata": {
        "id": "aJHgLa7QI718"
      },
      "source": [
        "text = ['Just forced myself to eat a pizza. I was so hungry']"
      ],
      "execution_count": 61,
      "outputs": []
    },
    {
      "cell_type": "code",
      "metadata": {
        "id": "VocCXZKaJiHa"
      },
      "source": [
        "test = vectorizer.transform(text)"
      ],
      "execution_count": 62,
      "outputs": []
    },
    {
      "cell_type": "markdown",
      "metadata": {
        "id": "zohoYDKCJr-B"
      },
      "source": [
        "###Save Model"
      ]
    },
    {
      "cell_type": "code",
      "metadata": {
        "id": "kLgWqR_rJm43"
      },
      "source": [
        "from tensorflow.keras.models import load_model\n",
        "model.save('/content/ham_spam.h5')"
      ],
      "execution_count": 58,
      "outputs": []
    },
    {
      "cell_type": "code",
      "metadata": {
        "id": "hUjw6HCrJ7lk"
      },
      "source": [
        "loaded_model = load_model('/content/ham_spam.h5')"
      ],
      "execution_count": 59,
      "outputs": []
    },
    {
      "cell_type": "code",
      "metadata": {
        "colab": {
          "base_uri": "https://localhost:8080/"
        },
        "id": "fWwH-2wxKGWW",
        "outputId": "c7219ca7-f3a4-4614-9435-c93bb5337c3b"
      },
      "source": [
        "loaded_model.predict(test)"
      ],
      "execution_count": 63,
      "outputs": [
        {
          "output_type": "execute_result",
          "data": {
            "text/plain": [
              "array([[1.]], dtype=float32)"
            ]
          },
          "metadata": {
            "tags": []
          },
          "execution_count": 63
        }
      ]
    },
    {
      "cell_type": "code",
      "metadata": {
        "id": "gDmyUu-5KK_D"
      },
      "source": [
        ""
      ],
      "execution_count": null,
      "outputs": []
    }
  ]
}